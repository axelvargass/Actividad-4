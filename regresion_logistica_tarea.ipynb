{
  "nbformat": 4,
  "nbformat_minor": 0,
  "metadata": {
    "colab": {
      "provenance": [],
      "include_colab_link": true
    },
    "kernelspec": {
      "name": "python3",
      "display_name": "Python 3"
    },
    "language_info": {
      "name": "python"
    }
  },
  "cells": [
    {
      "cell_type": "markdown",
      "metadata": {
        "id": "view-in-github",
        "colab_type": "text"
      },
      "source": [
        "<a href=\"https://colab.research.google.com/github/axelvargass/Actividad-4/blob/main/regresion_logistica_tarea.ipynb\" target=\"_parent\"><img src=\"https://colab.research.google.com/assets/colab-badge.svg\" alt=\"Open In Colab\"/></a>"
      ]
    },
    {
      "cell_type": "code",
      "execution_count": null,
      "metadata": {
        "id": "ToXLalw5vfTG"
      },
      "outputs": [],
      "source": [
        "import pandas as pd\n",
        "import numpy as np\n",
        "import matplotlib.pyplot as plt\n",
        "import seaborn as sns\n",
        "import scipy.special as special\n",
        "from scipy.optimize import curve_fit\n",
        "from sklearn.metrics import r2_score\n",
        "from sklearn.model_selection import train_test_split\n",
        "from sklearn.preprocessing import StandardScaler\n"
      ]
    },
    {
      "cell_type": "code",
      "source": [
        "from google.colab import files\n",
        "files.upload()\n",
        "#Cargar desde un archivo .csv sin indice\n",
        "df=pd.read_csv('microretailer_mit_lift_lab_actualizado.csv')"
      ],
      "metadata": {
        "colab": {
          "base_uri": "https://localhost:8080/",
          "height": 74
        },
        "id": "xerpsp02wl4M",
        "outputId": "740b271c-2f96-4275-8588-9665fce176df"
      },
      "execution_count": null,
      "outputs": [
        {
          "output_type": "display_data",
          "data": {
            "text/plain": [
              "<IPython.core.display.HTML object>"
            ],
            "text/html": [
              "\n",
              "     <input type=\"file\" id=\"files-14308a84-0811-4108-9036-004b4c4b9212\" name=\"files[]\" multiple disabled\n",
              "        style=\"border:none\" />\n",
              "     <output id=\"result-14308a84-0811-4108-9036-004b4c4b9212\">\n",
              "      Upload widget is only available when the cell has been executed in the\n",
              "      current browser session. Please rerun this cell to enable.\n",
              "      </output>\n",
              "      <script>// Copyright 2017 Google LLC\n",
              "//\n",
              "// Licensed under the Apache License, Version 2.0 (the \"License\");\n",
              "// you may not use this file except in compliance with the License.\n",
              "// You may obtain a copy of the License at\n",
              "//\n",
              "//      http://www.apache.org/licenses/LICENSE-2.0\n",
              "//\n",
              "// Unless required by applicable law or agreed to in writing, software\n",
              "// distributed under the License is distributed on an \"AS IS\" BASIS,\n",
              "// WITHOUT WARRANTIES OR CONDITIONS OF ANY KIND, either express or implied.\n",
              "// See the License for the specific language governing permissions and\n",
              "// limitations under the License.\n",
              "\n",
              "/**\n",
              " * @fileoverview Helpers for google.colab Python module.\n",
              " */\n",
              "(function(scope) {\n",
              "function span(text, styleAttributes = {}) {\n",
              "  const element = document.createElement('span');\n",
              "  element.textContent = text;\n",
              "  for (const key of Object.keys(styleAttributes)) {\n",
              "    element.style[key] = styleAttributes[key];\n",
              "  }\n",
              "  return element;\n",
              "}\n",
              "\n",
              "// Max number of bytes which will be uploaded at a time.\n",
              "const MAX_PAYLOAD_SIZE = 100 * 1024;\n",
              "\n",
              "function _uploadFiles(inputId, outputId) {\n",
              "  const steps = uploadFilesStep(inputId, outputId);\n",
              "  const outputElement = document.getElementById(outputId);\n",
              "  // Cache steps on the outputElement to make it available for the next call\n",
              "  // to uploadFilesContinue from Python.\n",
              "  outputElement.steps = steps;\n",
              "\n",
              "  return _uploadFilesContinue(outputId);\n",
              "}\n",
              "\n",
              "// This is roughly an async generator (not supported in the browser yet),\n",
              "// where there are multiple asynchronous steps and the Python side is going\n",
              "// to poll for completion of each step.\n",
              "// This uses a Promise to block the python side on completion of each step,\n",
              "// then passes the result of the previous step as the input to the next step.\n",
              "function _uploadFilesContinue(outputId) {\n",
              "  const outputElement = document.getElementById(outputId);\n",
              "  const steps = outputElement.steps;\n",
              "\n",
              "  const next = steps.next(outputElement.lastPromiseValue);\n",
              "  return Promise.resolve(next.value.promise).then((value) => {\n",
              "    // Cache the last promise value to make it available to the next\n",
              "    // step of the generator.\n",
              "    outputElement.lastPromiseValue = value;\n",
              "    return next.value.response;\n",
              "  });\n",
              "}\n",
              "\n",
              "/**\n",
              " * Generator function which is called between each async step of the upload\n",
              " * process.\n",
              " * @param {string} inputId Element ID of the input file picker element.\n",
              " * @param {string} outputId Element ID of the output display.\n",
              " * @return {!Iterable<!Object>} Iterable of next steps.\n",
              " */\n",
              "function* uploadFilesStep(inputId, outputId) {\n",
              "  const inputElement = document.getElementById(inputId);\n",
              "  inputElement.disabled = false;\n",
              "\n",
              "  const outputElement = document.getElementById(outputId);\n",
              "  outputElement.innerHTML = '';\n",
              "\n",
              "  const pickedPromise = new Promise((resolve) => {\n",
              "    inputElement.addEventListener('change', (e) => {\n",
              "      resolve(e.target.files);\n",
              "    });\n",
              "  });\n",
              "\n",
              "  const cancel = document.createElement('button');\n",
              "  inputElement.parentElement.appendChild(cancel);\n",
              "  cancel.textContent = 'Cancel upload';\n",
              "  const cancelPromise = new Promise((resolve) => {\n",
              "    cancel.onclick = () => {\n",
              "      resolve(null);\n",
              "    };\n",
              "  });\n",
              "\n",
              "  // Wait for the user to pick the files.\n",
              "  const files = yield {\n",
              "    promise: Promise.race([pickedPromise, cancelPromise]),\n",
              "    response: {\n",
              "      action: 'starting',\n",
              "    }\n",
              "  };\n",
              "\n",
              "  cancel.remove();\n",
              "\n",
              "  // Disable the input element since further picks are not allowed.\n",
              "  inputElement.disabled = true;\n",
              "\n",
              "  if (!files) {\n",
              "    return {\n",
              "      response: {\n",
              "        action: 'complete',\n",
              "      }\n",
              "    };\n",
              "  }\n",
              "\n",
              "  for (const file of files) {\n",
              "    const li = document.createElement('li');\n",
              "    li.append(span(file.name, {fontWeight: 'bold'}));\n",
              "    li.append(span(\n",
              "        `(${file.type || 'n/a'}) - ${file.size} bytes, ` +\n",
              "        `last modified: ${\n",
              "            file.lastModifiedDate ? file.lastModifiedDate.toLocaleDateString() :\n",
              "                                    'n/a'} - `));\n",
              "    const percent = span('0% done');\n",
              "    li.appendChild(percent);\n",
              "\n",
              "    outputElement.appendChild(li);\n",
              "\n",
              "    const fileDataPromise = new Promise((resolve) => {\n",
              "      const reader = new FileReader();\n",
              "      reader.onload = (e) => {\n",
              "        resolve(e.target.result);\n",
              "      };\n",
              "      reader.readAsArrayBuffer(file);\n",
              "    });\n",
              "    // Wait for the data to be ready.\n",
              "    let fileData = yield {\n",
              "      promise: fileDataPromise,\n",
              "      response: {\n",
              "        action: 'continue',\n",
              "      }\n",
              "    };\n",
              "\n",
              "    // Use a chunked sending to avoid message size limits. See b/62115660.\n",
              "    let position = 0;\n",
              "    do {\n",
              "      const length = Math.min(fileData.byteLength - position, MAX_PAYLOAD_SIZE);\n",
              "      const chunk = new Uint8Array(fileData, position, length);\n",
              "      position += length;\n",
              "\n",
              "      const base64 = btoa(String.fromCharCode.apply(null, chunk));\n",
              "      yield {\n",
              "        response: {\n",
              "          action: 'append',\n",
              "          file: file.name,\n",
              "          data: base64,\n",
              "        },\n",
              "      };\n",
              "\n",
              "      let percentDone = fileData.byteLength === 0 ?\n",
              "          100 :\n",
              "          Math.round((position / fileData.byteLength) * 100);\n",
              "      percent.textContent = `${percentDone}% done`;\n",
              "\n",
              "    } while (position < fileData.byteLength);\n",
              "  }\n",
              "\n",
              "  // All done.\n",
              "  yield {\n",
              "    response: {\n",
              "      action: 'complete',\n",
              "    }\n",
              "  };\n",
              "}\n",
              "\n",
              "scope.google = scope.google || {};\n",
              "scope.google.colab = scope.google.colab || {};\n",
              "scope.google.colab._files = {\n",
              "  _uploadFiles,\n",
              "  _uploadFilesContinue,\n",
              "};\n",
              "})(self);\n",
              "</script> "
            ]
          },
          "metadata": {}
        },
        {
          "output_type": "stream",
          "name": "stdout",
          "text": [
            "Saving microretailer_mit_lift_lab_actualizado.csv to microretailer_mit_lift_lab_actualizado.csv\n"
          ]
        }
      ]
    },
    {
      "cell_type": "code",
      "source": [
        "#Rellenamos nulos \n",
        "df=df.fillna(method=\"ffill\")\n"
      ],
      "metadata": {
        "id": "9E1G-_8CxLQF"
      },
      "execution_count": null,
      "outputs": []
    },
    {
      "cell_type": "code",
      "source": [
        "#corroboramos valores nulos \n",
        "valores_nulos=df.isnull().sum()\n",
        "valores_nulos"
      ],
      "metadata": {
        "colab": {
          "base_uri": "https://localhost:8080/"
        },
        "id": "4jPo9EDyyePw",
        "outputId": "ca9bce49-bb39-4a18-d8cb-1c22c4dad886"
      },
      "execution_count": null,
      "outputs": [
        {
          "output_type": "execute_result",
          "data": {
            "text/plain": [
              "Unnamed: 0                                               0\n",
              "228_store_name                                           0\n",
              "232_type_of_store                                        0\n",
              "108_does_the_micro_retailer_has_a_barred_window_         0\n",
              "99_does_the_micro_retailer_exhibits_products_outside_    0\n",
              "                                                        ..\n",
              "316_frequency_utility_bills                              0\n",
              "317_home_deliveries                                      0\n",
              "62_frequency_only_services                               0\n",
              "78_number_home_deliveries_week                           0\n",
              "172_supplier_frequency                                   0\n",
              "Length: 89, dtype: int64"
            ]
          },
          "metadata": {},
          "execution_count": 4
        }
      ]
    },
    {
      "cell_type": "code",
      "source": [
        "#Declaramos variables dependientes e independientes para la regresion logistica \n",
        "Vars_Indep=df[['97_number_of_customers_in_store', '268_number_fridges', '104_how_many_shelves_does_the_micro_retailer_have']]\n",
        "Var_Dep=df['102_does_the_micro_retailer_sells_fresh_products_']"
      ],
      "metadata": {
        "id": "9OinknCNxzmH"
      },
      "execution_count": null,
      "outputs": []
    },
    {
      "cell_type": "code",
      "source": [
        "#Redefinimos la variable \n",
        "X=Vars_Indep\n",
        "y=Var_Dep"
      ],
      "metadata": {
        "id": "YKEYD7rjyLra"
      },
      "execution_count": null,
      "outputs": []
    },
    {
      "cell_type": "code",
      "source": [
        "#Dividimos el conjunto de datos en la parte de entrenamiento y prueba:\n",
        "x_train,x_test,y_train,y_test=train_test_split(X,y,test_size=0.3,random_state=None)"
      ],
      "metadata": {
        "id": "a2N_-5qMyVuP"
      },
      "execution_count": null,
      "outputs": []
    },
    {
      "cell_type": "code",
      "source": [
        "#Se escalan datos\n",
        "escalar=StandardScaler()"
      ],
      "metadata": {
        "id": "eMcFrcItybDD"
      },
      "execution_count": null,
      "outputs": []
    },
    {
      "cell_type": "code",
      "source": [
        "#Para realizar el escalamiento de las varibles \"X\" tanto de entrenamiento como de prueva utilizaremos fit_transform\n",
        "x_train=escalar.fit_transform(x_train)\n",
        "X_test=escalar.transform(x_test)"
      ],
      "metadata": {
        "id": "epHSTEvtzMiQ"
      },
      "execution_count": null,
      "outputs": []
    },
    {
      "cell_type": "code",
      "source": [
        "#Define el algoritmo a autilizar \n",
        "from sklearn.linear_model import LogisticRegression\n",
        "algoritmo=LogisticRegression()"
      ],
      "metadata": {
        "id": "e7U75k03z3nQ"
      },
      "execution_count": null,
      "outputs": []
    },
    {
      "cell_type": "code",
      "source": [
        "#entrenamos el modelo \n",
        "algoritmo.fit(x_train,y_train)"
      ],
      "metadata": {
        "colab": {
          "base_uri": "https://localhost:8080/"
        },
        "id": "h_quSmRd0Q_I",
        "outputId": "4d566cd0-7c4d-48f0-db58-fb7e7e6190be"
      },
      "execution_count": null,
      "outputs": [
        {
          "output_type": "execute_result",
          "data": {
            "text/plain": [
              "LogisticRegression()"
            ]
          },
          "metadata": {},
          "execution_count": 11
        }
      ]
    },
    {
      "cell_type": "code",
      "source": [
        "#Relizamos una prediccion\n",
        "y_prend=algoritmo.predict(X_test)\n",
        "y_prend"
      ],
      "metadata": {
        "colab": {
          "base_uri": "https://localhost:8080/"
        },
        "id": "W5-ZZPlY1QO_",
        "outputId": "55f1707a-deae-46b3-8418-04e735ea6add"
      },
      "execution_count": null,
      "outputs": [
        {
          "output_type": "execute_result",
          "data": {
            "text/plain": [
              "array(['yes', 'no', 'yes', 'yes', 'no', 'no', 'yes', 'no', 'yes', 'no',\n",
              "       'no', 'yes', 'no', 'no', 'no', 'no', 'no', 'no', 'yes', 'yes',\n",
              "       'no', 'no', 'no', 'yes', 'no', 'yes', 'no', 'no', 'no', 'yes',\n",
              "       'no', 'yes', 'no', 'yes', 'no', 'no', 'yes', 'no', 'yes', 'yes',\n",
              "       'no', 'no', 'no', 'yes', 'yes', 'no', 'yes', 'yes', 'no', 'no',\n",
              "       'no', 'no', 'yes', 'no', 'yes', 'no', 'yes', 'no', 'no', 'yes',\n",
              "       'yes', 'no', 'no', 'no', 'no', 'no', 'yes', 'yes', 'no', 'no',\n",
              "       'no', 'no', 'yes', 'yes', 'no', 'no', 'no', 'yes', 'yes', 'no',\n",
              "       'no', 'no', 'no', 'no', 'yes', 'no', 'no', 'yes', 'yes', 'no',\n",
              "       'no', 'no', 'no', 'no', 'no', 'no', 'yes', 'yes', 'yes'],\n",
              "      dtype=object)"
            ]
          },
          "metadata": {},
          "execution_count": 12
        }
      ]
    },
    {
      "cell_type": "code",
      "source": [
        "#Verificamos la matriz de confusion\n",
        "from sklearn.metrics import confusion_matrix\n",
        "matriz=confusion_matrix(y_test,y_prend)\n",
        "print('Matriz de confusion')\n",
        "print(matriz)"
      ],
      "metadata": {
        "colab": {
          "base_uri": "https://localhost:8080/"
        },
        "id": "_yMacrUE3TK4",
        "outputId": "5c0e263b-f339-46cd-cd49-e6a7c30f68d7"
      },
      "execution_count": null,
      "outputs": [
        {
          "output_type": "stream",
          "name": "stdout",
          "text": [
            "Matriz de confusion\n",
            "[[45 12]\n",
            " [17 25]]\n"
          ]
        }
      ]
    },
    {
      "cell_type": "code",
      "source": [
        "#calculo de la presision del modelo \n",
        "from sklearn.metrics import precision_score\n",
        "presicion=precision_score(y_test,y_prend,average=\"binary\",pos_label=\"yes\")\n",
        "print('Presicion del modelo:')\n",
        "print(presicion)"
      ],
      "metadata": {
        "colab": {
          "base_uri": "https://localhost:8080/"
        },
        "id": "up_xN0nc4Sab",
        "outputId": "d54a979e-4dc4-4e23-a69d-65c3e6e952e1"
      },
      "execution_count": null,
      "outputs": [
        {
          "output_type": "stream",
          "name": "stdout",
          "text": [
            "Presicion del modelo:\n",
            "0.6756756756756757\n"
          ]
        }
      ]
    },
    {
      "cell_type": "code",
      "source": [
        "#calculo de la Exactitud del modelo \n",
        "from sklearn.metrics import accuracy_score\n",
        "Exactitud=accuracy_score(y_test,y_prend)\n",
        "print('Exactitud del modelo:')\n",
        "print(Exactitud)"
      ],
      "metadata": {
        "colab": {
          "base_uri": "https://localhost:8080/"
        },
        "id": "-lwpEXZi5OXJ",
        "outputId": "42ef7745-17aa-40c8-f88e-9fb33d00f70c"
      },
      "execution_count": null,
      "outputs": [
        {
          "output_type": "stream",
          "name": "stdout",
          "text": [
            "Exactitud del modelo:\n",
            "0.7070707070707071\n"
          ]
        }
      ]
    },
    {
      "cell_type": "code",
      "source": [
        "#calculo de la presision del modelo \n",
        "from sklearn.metrics import recall_score\n",
        "sensibilidad=recall_score(y_test,y_prend,average=\"binary\",pos_label=\"yes\")\n",
        "print('Sensibilidad del modelo:')\n",
        "print(sensibilidad)"
      ],
      "metadata": {
        "colab": {
          "base_uri": "https://localhost:8080/"
        },
        "id": "JORsSG2u5mvR",
        "outputId": "dd93a96c-7179-4e9a-9fec-0679da6b735d"
      },
      "execution_count": null,
      "outputs": [
        {
          "output_type": "stream",
          "name": "stdout",
          "text": [
            "Sensibilidad del modelo:\n",
            "0.5952380952380952\n"
          ]
        }
      ]
    }
  ]
}