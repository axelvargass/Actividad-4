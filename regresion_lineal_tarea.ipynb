{
  "nbformat": 4,
  "nbformat_minor": 0,
  "metadata": {
    "colab": {
      "provenance": [],
      "include_colab_link": true
    },
    "kernelspec": {
      "name": "python3",
      "display_name": "Python 3"
    },
    "language_info": {
      "name": "python"
    }
  },
  "cells": [
    {
      "cell_type": "markdown",
      "metadata": {
        "id": "view-in-github",
        "colab_type": "text"
      },
      "source": [
        "<a href=\"https://colab.research.google.com/github/axelvargass/Actividad-4/blob/main/regresion_lineal_tarea.ipynb\" target=\"_parent\"><img src=\"https://colab.research.google.com/assets/colab-badge.svg\" alt=\"Open In Colab\"/></a>"
      ]
    },
    {
      "cell_type": "code",
      "execution_count": null,
      "metadata": {
        "id": "pmzfzDbzhrn-"
      },
      "outputs": [],
      "source": [
        "import pandas as pd\n",
        "import numpy as np\n",
        "import matplotlib.pyplot as plt\n",
        "import seaborn as sns"
      ]
    },
    {
      "cell_type": "code",
      "source": [
        "from google.colab import files\n",
        "files.upload()\n",
        "#Cargar desde un archivo .csv sin indice\n",
        "df=pd.read_csv('microretailer_mit_lift_lab_actualizado.csv')\n"
      ],
      "metadata": {
        "colab": {
          "base_uri": "https://localhost:8080/",
          "height": 74
        },
        "id": "FwAGOKVohuCL",
        "outputId": "46da3d28-b709-412d-c906-beaf3c0d7aa3"
      },
      "execution_count": null,
      "outputs": [
        {
          "output_type": "display_data",
          "data": {
            "text/plain": [
              "<IPython.core.display.HTML object>"
            ],
            "text/html": [
              "\n",
              "     <input type=\"file\" id=\"files-84cbb7c0-bd18-4cd2-a262-fba3b1277508\" name=\"files[]\" multiple disabled\n",
              "        style=\"border:none\" />\n",
              "     <output id=\"result-84cbb7c0-bd18-4cd2-a262-fba3b1277508\">\n",
              "      Upload widget is only available when the cell has been executed in the\n",
              "      current browser session. Please rerun this cell to enable.\n",
              "      </output>\n",
              "      <script>// Copyright 2017 Google LLC\n",
              "//\n",
              "// Licensed under the Apache License, Version 2.0 (the \"License\");\n",
              "// you may not use this file except in compliance with the License.\n",
              "// You may obtain a copy of the License at\n",
              "//\n",
              "//      http://www.apache.org/licenses/LICENSE-2.0\n",
              "//\n",
              "// Unless required by applicable law or agreed to in writing, software\n",
              "// distributed under the License is distributed on an \"AS IS\" BASIS,\n",
              "// WITHOUT WARRANTIES OR CONDITIONS OF ANY KIND, either express or implied.\n",
              "// See the License for the specific language governing permissions and\n",
              "// limitations under the License.\n",
              "\n",
              "/**\n",
              " * @fileoverview Helpers for google.colab Python module.\n",
              " */\n",
              "(function(scope) {\n",
              "function span(text, styleAttributes = {}) {\n",
              "  const element = document.createElement('span');\n",
              "  element.textContent = text;\n",
              "  for (const key of Object.keys(styleAttributes)) {\n",
              "    element.style[key] = styleAttributes[key];\n",
              "  }\n",
              "  return element;\n",
              "}\n",
              "\n",
              "// Max number of bytes which will be uploaded at a time.\n",
              "const MAX_PAYLOAD_SIZE = 100 * 1024;\n",
              "\n",
              "function _uploadFiles(inputId, outputId) {\n",
              "  const steps = uploadFilesStep(inputId, outputId);\n",
              "  const outputElement = document.getElementById(outputId);\n",
              "  // Cache steps on the outputElement to make it available for the next call\n",
              "  // to uploadFilesContinue from Python.\n",
              "  outputElement.steps = steps;\n",
              "\n",
              "  return _uploadFilesContinue(outputId);\n",
              "}\n",
              "\n",
              "// This is roughly an async generator (not supported in the browser yet),\n",
              "// where there are multiple asynchronous steps and the Python side is going\n",
              "// to poll for completion of each step.\n",
              "// This uses a Promise to block the python side on completion of each step,\n",
              "// then passes the result of the previous step as the input to the next step.\n",
              "function _uploadFilesContinue(outputId) {\n",
              "  const outputElement = document.getElementById(outputId);\n",
              "  const steps = outputElement.steps;\n",
              "\n",
              "  const next = steps.next(outputElement.lastPromiseValue);\n",
              "  return Promise.resolve(next.value.promise).then((value) => {\n",
              "    // Cache the last promise value to make it available to the next\n",
              "    // step of the generator.\n",
              "    outputElement.lastPromiseValue = value;\n",
              "    return next.value.response;\n",
              "  });\n",
              "}\n",
              "\n",
              "/**\n",
              " * Generator function which is called between each async step of the upload\n",
              " * process.\n",
              " * @param {string} inputId Element ID of the input file picker element.\n",
              " * @param {string} outputId Element ID of the output display.\n",
              " * @return {!Iterable<!Object>} Iterable of next steps.\n",
              " */\n",
              "function* uploadFilesStep(inputId, outputId) {\n",
              "  const inputElement = document.getElementById(inputId);\n",
              "  inputElement.disabled = false;\n",
              "\n",
              "  const outputElement = document.getElementById(outputId);\n",
              "  outputElement.innerHTML = '';\n",
              "\n",
              "  const pickedPromise = new Promise((resolve) => {\n",
              "    inputElement.addEventListener('change', (e) => {\n",
              "      resolve(e.target.files);\n",
              "    });\n",
              "  });\n",
              "\n",
              "  const cancel = document.createElement('button');\n",
              "  inputElement.parentElement.appendChild(cancel);\n",
              "  cancel.textContent = 'Cancel upload';\n",
              "  const cancelPromise = new Promise((resolve) => {\n",
              "    cancel.onclick = () => {\n",
              "      resolve(null);\n",
              "    };\n",
              "  });\n",
              "\n",
              "  // Wait for the user to pick the files.\n",
              "  const files = yield {\n",
              "    promise: Promise.race([pickedPromise, cancelPromise]),\n",
              "    response: {\n",
              "      action: 'starting',\n",
              "    }\n",
              "  };\n",
              "\n",
              "  cancel.remove();\n",
              "\n",
              "  // Disable the input element since further picks are not allowed.\n",
              "  inputElement.disabled = true;\n",
              "\n",
              "  if (!files) {\n",
              "    return {\n",
              "      response: {\n",
              "        action: 'complete',\n",
              "      }\n",
              "    };\n",
              "  }\n",
              "\n",
              "  for (const file of files) {\n",
              "    const li = document.createElement('li');\n",
              "    li.append(span(file.name, {fontWeight: 'bold'}));\n",
              "    li.append(span(\n",
              "        `(${file.type || 'n/a'}) - ${file.size} bytes, ` +\n",
              "        `last modified: ${\n",
              "            file.lastModifiedDate ? file.lastModifiedDate.toLocaleDateString() :\n",
              "                                    'n/a'} - `));\n",
              "    const percent = span('0% done');\n",
              "    li.appendChild(percent);\n",
              "\n",
              "    outputElement.appendChild(li);\n",
              "\n",
              "    const fileDataPromise = new Promise((resolve) => {\n",
              "      const reader = new FileReader();\n",
              "      reader.onload = (e) => {\n",
              "        resolve(e.target.result);\n",
              "      };\n",
              "      reader.readAsArrayBuffer(file);\n",
              "    });\n",
              "    // Wait for the data to be ready.\n",
              "    let fileData = yield {\n",
              "      promise: fileDataPromise,\n",
              "      response: {\n",
              "        action: 'continue',\n",
              "      }\n",
              "    };\n",
              "\n",
              "    // Use a chunked sending to avoid message size limits. See b/62115660.\n",
              "    let position = 0;\n",
              "    do {\n",
              "      const length = Math.min(fileData.byteLength - position, MAX_PAYLOAD_SIZE);\n",
              "      const chunk = new Uint8Array(fileData, position, length);\n",
              "      position += length;\n",
              "\n",
              "      const base64 = btoa(String.fromCharCode.apply(null, chunk));\n",
              "      yield {\n",
              "        response: {\n",
              "          action: 'append',\n",
              "          file: file.name,\n",
              "          data: base64,\n",
              "        },\n",
              "      };\n",
              "\n",
              "      let percentDone = fileData.byteLength === 0 ?\n",
              "          100 :\n",
              "          Math.round((position / fileData.byteLength) * 100);\n",
              "      percent.textContent = `${percentDone}% done`;\n",
              "\n",
              "    } while (position < fileData.byteLength);\n",
              "  }\n",
              "\n",
              "  // All done.\n",
              "  yield {\n",
              "    response: {\n",
              "      action: 'complete',\n",
              "    }\n",
              "  };\n",
              "}\n",
              "\n",
              "scope.google = scope.google || {};\n",
              "scope.google.colab = scope.google.colab || {};\n",
              "scope.google.colab._files = {\n",
              "  _uploadFiles,\n",
              "  _uploadFilesContinue,\n",
              "};\n",
              "})(self);\n",
              "</script> "
            ]
          },
          "metadata": {}
        },
        {
          "output_type": "stream",
          "name": "stdout",
          "text": [
            "Saving microretailer_mit_lift_lab_actualizado.csv to microretailer_mit_lift_lab_actualizado.csv\n"
          ]
        }
      ]
    },
    {
      "cell_type": "code",
      "source": [
        "#Sustituir valores nulos por valores no nulo hacia atras \"backward fill\"(\"bfill\")\n",
        "df[\"97_number_of_customers_in_store\"]=df[\"97_number_of_customers_in_store\"].fillna(method=\"bfill\")"
      ],
      "metadata": {
        "id": "QRIoLbSAKM0P"
      },
      "execution_count": null,
      "outputs": []
    },
    {
      "cell_type": "code",
      "source": [
        "#Sustituir valores nulos por valores no nulo hacia atras \"backward fill\"(\"bfill\")\n",
        "df[\"268_number_fridges\"]=df[\"268_number_fridges\"].fillna(method=\"bfill\")"
      ],
      "metadata": {
        "id": "inQ3eoMgKWvf"
      },
      "execution_count": null,
      "outputs": []
    },
    {
      "cell_type": "code",
      "source": [
        "#Sustituir valores nulos por valores no nulo hacia atras \"backward fill\"(\"bfill\")\n",
        "df[\"104_how_many_shelves_does_the_micro_retailer_have\"]=df[\"104_how_many_shelves_does_the_micro_retailer_have\"].fillna(method=\"bfill\")"
      ],
      "metadata": {
        "id": "n-BJ0amqKe0e"
      },
      "execution_count": null,
      "outputs": []
    },
    {
      "cell_type": "code",
      "source": [
        "#Sustituir valores nulos por valores no nulo hacia atras \"backward fill\"(\"bfill\")\n",
        "df[\"2_current_permanent_employees\"]=df[\"2_current_permanent_employees\"].fillna(method=\"bfill\")"
      ],
      "metadata": {
        "id": "7pEXmqa1KjAN"
      },
      "execution_count": null,
      "outputs": []
    },
    {
      "cell_type": "code",
      "source": [
        "#Sustituir valores nulos por valores no nulo hacia atras \"backward fill\"(\"bfill\")\n",
        "df[\"234_willingness_participate_workshop\"]=df[\"234_willingness_participate_workshop\"].fillna(method=\"bfill\")"
      ],
      "metadata": {
        "id": "7J_TZTvqKjgx"
      },
      "execution_count": null,
      "outputs": []
    },
    {
      "cell_type": "code",
      "source": [
        "#Sustituir valores nulos por valores no nulo hacia atras \"forward fill\"(\"ffill\")\n",
        "df[\"234_willingness_participate_workshop\"]=df[\"234_willingness_participate_workshop\"].fillna(method=\"ffill\")"
      ],
      "metadata": {
        "id": "5Z9uO57zK7GU"
      },
      "execution_count": null,
      "outputs": []
    },
    {
      "cell_type": "code",
      "source": [
        "#corroboramos valores nulos \n",
        "valores_nulos=df.isnull().sum()\n",
        "valores_nulos"
      ],
      "metadata": {
        "id": "1CRsLRr2JxqY"
      },
      "execution_count": null,
      "outputs": []
    },
    {
      "cell_type": "markdown",
      "source": [
        "ya qye tenemos el archivo limopio ya podemos aplicar la regresion lineal "
      ],
      "metadata": {
        "id": "qg1Ffew3vs64"
      }
    },
    {
      "cell_type": "code",
      "source": [
        "#se grafican mapas de dispersion de las variables 3 variables \n",
        "from turtle import color\n",
        "sns.scatterplot(x='97_number_of_customers_in_store', y='2_current_permanent_employees', color=\"blue\" , data=df)\n",
        "sns.scatterplot(x='268_number_fridges', y='2_current_permanent_employees', color=\"red\" , data=df)\n",
        "sns.scatterplot(x='104_how_many_shelves_does_the_micro_retailer_have', y='2_current_permanent_employees', color=\"yellow\" , data=df)"
      ],
      "metadata": {
        "colab": {
          "base_uri": "https://localhost:8080/",
          "height": 298
        },
        "id": "ZmVohjgWh3PI",
        "outputId": "a3a128e2-ab78-4a88-82d4-8c6ef70f7501"
      },
      "execution_count": null,
      "outputs": [
        {
          "output_type": "execute_result",
          "data": {
            "text/plain": [
              "<matplotlib.axes._subplots.AxesSubplot at 0x7f81cd5b6350>"
            ]
          },
          "metadata": {},
          "execution_count": 10
        },
        {
          "output_type": "display_data",
          "data": {
            "text/plain": [
              "<Figure size 432x288 with 1 Axes>"
            ],
            "image/png": "[encoded data removed]"
          },
          "metadata": {
            "needs_background": "light"
          }
        }
      ]
    },
    {
      "cell_type": "code",
      "source": [
        "#declaramos las v ariables dependientes \n",
        "Vars_Indep=df[['97_number_of_customers_in_store', '268_number_fridges', '104_how_many_shelves_does_the_micro_retailer_have']]\n",
        "Var_Dep=df['2_current_permanent_employees']"
      ],
      "metadata": {
        "id": "-Obr5eKJimQT"
      },
      "execution_count": null,
      "outputs": []
    },
    {
      "cell_type": "code",
      "source": [
        "#Se define como model como la funcion de regresion lineal \n",
        "from sklearn.linear_model import LinearRegression\n",
        "model=LinearRegression()"
      ],
      "metadata": {
        "id": "ECEjGvtJjj4W"
      },
      "execution_count": null,
      "outputs": []
    },
    {
      "cell_type": "code",
      "source": [
        "#verificamos la funcion relacionada al modelo \n",
        "type(model)"
      ],
      "metadata": {
        "colab": {
          "base_uri": "https://localhost:8080/"
        },
        "id": "9Edfs4umj4NV",
        "outputId": "8f6b1422-513f-42d9-80e8-c4d35c4ab183"
      },
      "execution_count": null,
      "outputs": [
        {
          "output_type": "execute_result",
          "data": {
            "text/plain": [
              "sklearn.linear_model._base.LinearRegression"
            ]
          },
          "metadata": {},
          "execution_count": 16
        }
      ]
    },
    {
      "cell_type": "code",
      "source": [
        "#ajustamos el modelo con las variables antes declaradas \n",
        "model.fit(X=Vars_Indep, y=Var_Dep)"
      ],
      "metadata": {
        "colab": {
          "base_uri": "https://localhost:8080/"
        },
        "id": "2RiydRDgkCTt",
        "outputId": "c3d7147a-5067-4db1-80c3-f1c4bc2c3072"
      },
      "execution_count": null,
      "outputs": [
        {
          "output_type": "execute_result",
          "data": {
            "text/plain": [
              "LinearRegression()"
            ]
          },
          "metadata": {},
          "execution_count": 17
        }
      ]
    },
    {
      "cell_type": "code",
      "source": [
        "#verificamos los coeficientes obtenidos para el model ajustado \n",
        "model.__dict__"
      ],
      "metadata": {
        "colab": {
          "base_uri": "https://localhost:8080/"
        },
        "id": "FLK02GpWktuE",
        "outputId": "8518af51-7d09-4de7-a6dd-de9b279d8863"
      },
      "execution_count": null,
      "outputs": [
        {
          "output_type": "execute_result",
          "data": {
            "text/plain": [
              "{'fit_intercept': True,\n",
              " 'normalize': 'deprecated',\n",
              " 'copy_X': True,\n",
              " 'n_jobs': None,\n",
              " 'positive': False,\n",
              " 'feature_names_in_': array(['97_number_of_customers_in_store', '268_number_fridges',\n",
              "        '104_how_many_shelves_does_the_micro_retailer_have'], dtype=object),\n",
              " 'n_features_in_': 3,\n",
              " 'coef_': array([ 0.17656949, -0.01013655, -0.00346191]),\n",
              " '_residues': 483.8308016544513,\n",
              " 'rank_': 3,\n",
              " 'singular_': array([88.68479734, 31.77712098, 22.5561918 ]),\n",
              " 'intercept_': 1.7042744968282306}"
            ]
          },
          "metadata": {},
          "execution_count": 18
        }
      ]
    },
    {
      "cell_type": "markdown",
      "source": [
        "\n",
        "y=0.17656949(97_number_of_customers_in_store)-0.01013655(268_number_fridges)-0.00346191(104_how_many_shelves_does_the_micro_retailer_have)+1.7042744968282306\n",
        "> Bloc con sangría\n",
        "\n"
      ],
      "metadata": {
        "id": "fmm284cAlmaS"
      }
    },
    {
      "cell_type": "code",
      "source": [
        "#Evaluamos el coeficiente del modelo obtenido por medio del coeficiente R2 determinación \n",
        "model.score(Vars_Indep,Var_Dep)"
      ],
      "metadata": {
        "colab": {
          "base_uri": "https://localhost:8080/"
        },
        "id": "evVj66A6mHAg",
        "outputId": "4d563fad-1bea-4b9b-e6e7-ed951eab121a"
      },
      "execution_count": null,
      "outputs": [
        {
          "output_type": "execute_result",
          "data": {
            "text/plain": [
              "0.03574077077144189"
            ]
          },
          "metadata": {},
          "execution_count": 19
        }
      ]
    },
    {
      "cell_type": "code",
      "source": [
        "#Predecimos los valores de total de accidentes a partir de las variables\n",
        "y_prend=model.predict(X=df[['97_number_of_customers_in_store', '268_number_fridges', '104_how_many_shelves_does_the_micro_retailer_have']])\n",
        "y_prend"
      ],
      "metadata": {
        "colab": {
          "base_uri": "https://localhost:8080/"
        },
        "id": "JN-7GVJInCaZ",
        "outputId": "bd46d17d-dcdf-4452-f5e0-4bd5ec984bd4"
      },
      "execution_count": null,
      "outputs": [
        {
          "output_type": "execute_result",
          "data": {
            "text/plain": [
              "array([1.84004861, 2.05741347, 2.05741347, 1.88084398, 2.20332412,\n",
              "       2.02650545, 1.67707758, 2.20678604, 2.71275949, 1.86007251,\n",
              "       1.88084398, 1.85364707, 1.86724552, 1.69042685, 1.68375221,\n",
              "       1.70081258, 2.00277044, 1.7042745 , 1.6802903 , 2.04727692,\n",
              "       1.69042685, 1.85710898, 1.7042745 , 1.69735067, 1.69388876,\n",
              "       2.20678604, 2.2203845 , 1.69388876, 1.86724552, 1.69067604,\n",
              "       1.85112911, 2.03021655, 2.20678604, 2.0403531 , 1.98917198,\n",
              "       1.69388876, 1.87045824, 1.87045824, 1.66728455, 1.79604051,\n",
              "       1.64666794, 2.18651295, 2.03714038, 1.84968677, 1.68053949,\n",
              "       2.22705913, 1.68696493, 2.02650545, 1.69067604, 1.70081258,\n",
              "       1.84968677, 1.87392016, 1.83955022, 2.39027935, 1.99930853,\n",
              "       1.68696493, 2.58366001, 1.87214978, 1.67707758, 1.69042685,\n",
              "       1.68696493, 1.79554213, 2.05395156, 2.21667339, 1.69735067,\n",
              "       2.0401039 , 1.69388876, 2.72585956, 1.68004111, 1.86353442,\n",
              "       1.69388876, 1.67657919, 1.87070744, 2.39027935, 1.69388876,\n",
              "       2.14779472, 1.69388876, 1.89588479, 1.69413795, 2.15906684,\n",
              "       1.69388876, 2.03664199, 2.18972567, 1.85710898, 1.68350302,\n",
              "       1.69067604, 1.83930103, 1.81285169, 2.03204451, 1.7042745 ,\n",
              "       1.67361567, 1.69413795, 1.7042745 , 1.70081258, 1.69735067,\n",
              "       1.69067604, 1.86378361, 1.70081258, 1.67682839, 1.67420837,\n",
              "       1.83979941, 1.92364483, 1.70081258, 1.68004111, 1.60166308,\n",
              "       1.76734844, 2.34463729, 1.99619013, 2.2691124 , 1.8867343 ,\n",
              "       1.85547502, 2.15214301, 2.04381501, 1.85077786, 2.02329273,\n",
              "       1.74807212, 2.14546838, 1.84622485, 1.59498844, 1.86724552,\n",
              "       2.04381501, 1.69067604, 1.86724552, 1.86724552, 2.2203845 ,\n",
              "       1.7042745 , 1.69067604, 1.66965537, 2.03427117, 1.83979941,\n",
              "       2.19664949, 1.68053949, 1.67361567, 1.69388876, 1.67015375,\n",
              "       2.34577287, 1.85077786, 1.85314868, 2.05741347, 2.1523922 ,\n",
              "       1.84672324, 2.55300118, 1.68400141, 1.68350302, 1.69413795,\n",
              "       1.68400141, 1.68696493, 2.21370986, 1.66669184, 1.89504289,\n",
              "       1.66694103, 2.53965192, 2.34873639, 1.69067604, 1.66001721,\n",
              "       2.02625625, 1.66273154, 2.04381501, 1.64963147, 1.84731595,\n",
              "       1.68350302, 1.84622485, 1.69388876, 1.68004111, 1.68721413,\n",
              "       1.83979941, 2.00623235, 1.69388876, 1.87070744, 1.66965537,\n",
              "       1.69735067, 2.04356582, 1.63603301, 1.62118859, 1.69735067,\n",
              "       1.64888389, 1.68721413, 1.87392016, 1.64245845, 1.67657919,\n",
              "       1.67682839, 2.21321148, 1.87045824, 2.04702773, 2.23052104,\n",
              "       1.69735067, 1.87045824, 1.69042685, 2.02675464, 1.86724552,\n",
              "       1.68350302, 1.98136178, 1.66669184, 1.63282029, 2.196993  ,\n",
              "       1.64320603, 2.00969427, 1.67015375, 1.98595926, 1.67707758,\n",
              "       1.66001721, 1.67707758, 1.83312478, 1.85018515, 1.85018515,\n",
              "       2.56684883, 2.23052104, 1.66694103, 1.87738207, 1.7042745 ,\n",
              "       2.03714038, 1.86007251, 1.88084398, 2.13765817, 2.17909073,\n",
              "       1.68696493, 1.86057089, 1.70081258, 1.69735067, 2.38335552,\n",
              "       2.00969427, 1.69735067, 1.87045824, 1.68696493, 1.68696493,\n",
              "       1.67657919, 1.87392016, 1.70081258, 1.69042685, 1.69388876,\n",
              "       1.87045824, 2.04381501, 1.69388876, 1.69042685, 2.37964442,\n",
              "       1.87392016, 2.19936383, 2.55671229, 1.85533861, 1.80246595,\n",
              "       2.05395156, 2.01983081, 1.7042745 , 1.69388876, 2.15189382,\n",
              "       1.82620096, 1.66273154, 1.83431794, 2.19664949, 1.87738207,\n",
              "       2.03714038, 1.96618456, 2.02625625, 1.87045824, 2.05741347,\n",
              "       2.04727692, 2.041195  , 2.02675464, 1.83930103, 2.03689118,\n",
              "       2.04727692, 2.02625625, 1.69413795, 1.68400141, 1.69388876,\n",
              "       1.67657919, 1.68004111, 1.67015375, 1.87045824, 1.95826396,\n",
              "       1.83979941, 1.86353442, 2.66404352, 1.82595176, 1.69388876,\n",
              "       1.67657919, 1.87045824, 1.69067604, 1.87738207, 2.02700383,\n",
              "       2.04702773, 1.69735067, 1.9601364 , 1.89273681, 1.86724552,\n",
              "       1.86724552, 1.85661059, 1.68721413, 2.02304353, 1.7042745 ,\n",
              "       1.69067604, 2.21024795, 1.7042745 , 1.84697243, 1.66931186,\n",
              "       2.00277044, 1.68400141, 1.68375221, 1.67682839, 1.83658669,\n",
              "       2.21346067, 1.98090787, 1.8126025 , 2.15089705, 2.22359722,\n",
              "       2.3484872 , 1.89588479, 1.65580772, 2.03664199, 1.66273154,\n",
              "       2.58366001, 1.67657919, 2.39003016, 2.39670479, 2.57352347,\n",
              "       2.41055244, 1.86378361, 1.88084398, 1.7042745 , 1.68053949,\n",
              "       2.05395156, 1.67040295, 1.7042745 , 1.87882442, 1.68696493,\n",
              "       1.66990456, 1.86353442, 2.2203845 , 1.69067604, 1.84697243])"
            ]
          },
          "metadata": {},
          "execution_count": 20
        }
      ]
    },
    {
      "cell_type": "code",
      "source": [
        "#insertamos la columna de predicciones del df\n",
        "df.insert(0,'Predicciones',y_prend)\n",
        "df"
      ],
      "metadata": {
        "colab": {
          "base_uri": "https://localhost:8080/",
          "height": 713
        },
        "id": "u4vs5-Tgnd8p",
        "outputId": "467f0a95-9a77-4d0c-8d5e-4e3bc72783b6"
      },
      "execution_count": null,
      "outputs": [
        {
          "output_type": "execute_result",
          "data": {
            "text/plain": [
              "     Predicciones  Unnamed: 0  \\\n",
              "0        1.840049           0   \n",
              "1        2.057413           1   \n",
              "2        2.057413           2   \n",
              "3        1.880844           3   \n",
              "4        2.203324           4   \n",
              "..            ...         ...   \n",
              "325      1.669905         325   \n",
              "326      1.863534         326   \n",
              "327      2.220384         327   \n",
              "328      1.690676         328   \n",
              "329      1.846972         329   \n",
              "\n",
              "                                        228_store_name  \\\n",
              "0                               Mini súper 7 hermanos    \n",
              "1                                     Super papas Lulu   \n",
              "2                                      Arte Paquistán    \n",
              "3                                            El vestir   \n",
              "4                                       Antojitos Tony   \n",
              "..                                                 ...   \n",
              "325                                      Xuti Galería    \n",
              "326                                         July Store   \n",
              "327                                          La fonda    \n",
              "328  Birria de Res \"Hermanos Negreros 2\" estilo Tij...   \n",
              "329                          Restaurante el alfeñique    \n",
              "\n",
              "                   232_type_of_store  \\\n",
              "0     Grocery store (aka. nanostore)   \n",
              "1     Grocery store (aka. nanostore)   \n",
              "2     Grocery store (aka. nanostore)   \n",
              "3     Grocery store (aka. nanostore)   \n",
              "4    Micro-restaurant (aka. fondita)   \n",
              "..                               ...   \n",
              "325         productos tradicionales    \n",
              "326   Grocery store (aka. nanostore)   \n",
              "327  Micro-restaurant (aka. fondita)   \n",
              "328  Micro-restaurant (aka. fondita)   \n",
              "329  Micro-restaurant (aka. fondita)   \n",
              "\n",
              "    108_does_the_micro_retailer_has_a_barred_window_  \\\n",
              "0                                                 no   \n",
              "1                                                 no   \n",
              "2                                                 no   \n",
              "3                                                 no   \n",
              "4                                                 no   \n",
              "..                                               ...   \n",
              "325                                               no   \n",
              "326                                              yes   \n",
              "327                                              yes   \n",
              "328                                               no   \n",
              "329                                               no   \n",
              "\n",
              "    99_does_the_micro_retailer_exhibits_products_outside_  \\\n",
              "0                                                  yes      \n",
              "1                                                  yes      \n",
              "2                                                  yes      \n",
              "3                                                  yes      \n",
              "4                                                   no      \n",
              "..                                                 ...      \n",
              "325                                                yes      \n",
              "326                                                 no      \n",
              "327                                                 no      \n",
              "328                                                 no      \n",
              "329                                                 no      \n",
              "\n",
              "    102_does_the_micro_retailer_sells_fresh_products_  \\\n",
              "0                                                 yes   \n",
              "1                                                 yes   \n",
              "2                                                  no   \n",
              "3                                                  no   \n",
              "4                                                 yes   \n",
              "..                                                ...   \n",
              "325                                                no   \n",
              "326                                                no   \n",
              "327                                               yes   \n",
              "328                                               yes   \n",
              "329                                               yes   \n",
              "\n",
              "                   184_store_devices  \\\n",
              "0        Security cameras,Smartphone   \n",
              "1                         Smartphone   \n",
              "2    Analog cash register,Smartphone   \n",
              "3                         Smartphone   \n",
              "4        Security cameras,Smartphone   \n",
              "..                               ...   \n",
              "325             Analog cash register   \n",
              "326  Analog cash register,Smartphone   \n",
              "327                       Smartphone   \n",
              "328             Analog cash register   \n",
              "329                       Smartphone   \n",
              "\n",
              "    hola_somos_estudiantes_del_tec_de_monterrey_estamos_realiz  \\\n",
              "0                                                  yes           \n",
              "1                                                   no           \n",
              "2                                                   no           \n",
              "3                                                  yes           \n",
              "4                                                   no           \n",
              "..                                                 ...           \n",
              "325                                                yes           \n",
              "326                                                 no           \n",
              "327                                                 no           \n",
              "328                                                 no           \n",
              "329                                                 no           \n",
              "\n",
              "    le_comento_que_toda_esta_informacin_es_confidencial  ... 24_burnout  \\\n",
              "0                                                  yes   ...        2.0   \n",
              "1                                                  yes   ...        3.9   \n",
              "2                                                  yes   ...        3.9   \n",
              "3                                                  yes   ...        3.9   \n",
              "4                                                  yes   ...        3.9   \n",
              "..                                                 ...   ...        ...   \n",
              "325                                                yes   ...        3.9   \n",
              "326                                                yes   ...        3.9   \n",
              "327                                                yes   ...        3.9   \n",
              "328                                                yes   ...        3.9   \n",
              "329                                                 no   ...        3.9   \n",
              "\n",
              "    272_card_days_receive_money 276_expected_days_informal_credit  \\\n",
              "0                             1                              11.8   \n",
              "1                             1                              11.8   \n",
              "2                             1                              11.8   \n",
              "3                             1                              11.8   \n",
              "4                             1                              11.8   \n",
              "..                          ...                               ...   \n",
              "325                           1                              11.8   \n",
              "326                           1                              11.8   \n",
              "327                           1                              11.8   \n",
              "328                           1                              11.8   \n",
              "329                           1                              11.8   \n",
              "\n",
              "    36_credit_default_rate 315_frequency_topups 316_frequency_utility_bills  \\\n",
              "0                      1.5                 20.0                        12.2   \n",
              "1                      1.5                 11.8                        12.2   \n",
              "2                      1.5                 11.8                        12.2   \n",
              "3                      1.5                 11.8                        12.2   \n",
              "4                      1.5                 11.8                        12.2   \n",
              "..                     ...                  ...                         ...   \n",
              "325                    1.5                 11.8                        12.2   \n",
              "326                    1.5                 11.8                        12.2   \n",
              "327                    1.5                 11.8                        12.2   \n",
              "328                    1.5                 11.8                        12.2   \n",
              "329                    1.5                 11.8                        12.2   \n",
              "\n",
              "    317_home_deliveries 62_frequency_only_services  \\\n",
              "0                  11.1                       10.0   \n",
              "1                  11.1                        9.4   \n",
              "2                  11.1                        9.4   \n",
              "3                  11.1                        9.4   \n",
              "4                  11.1                        9.4   \n",
              "..                  ...                        ...   \n",
              "325                11.1                        1.0   \n",
              "326                11.1                        9.4   \n",
              "327                11.1                        9.4   \n",
              "328                11.1                        9.4   \n",
              "329                11.1                        9.4   \n",
              "\n",
              "    78_number_home_deliveries_week 172_supplier_frequency  \n",
              "0                                2                    2.0  \n",
              "1                                2                    2.7  \n",
              "2                                2                    2.7  \n",
              "3                                2                    1.0  \n",
              "4                                2                    2.7  \n",
              "..                             ...                    ...  \n",
              "325                              2                    5.0  \n",
              "326                              2                    2.7  \n",
              "327                              2                    2.7  \n",
              "328                              2                    2.7  \n",
              "329                              2                    2.7  \n",
              "\n",
              "[330 rows x 90 columns]"
            ],
            "text/html": [
              "\n",
              "  <div id=\"df-ee90411c-34dd-4c7e-9dec-686262d0d0d4\">\n",
              "    <div class=\"colab-df-container\">\n",
              "      <div>\n",
              "<style scoped>\n",
              "    .dataframe tbody tr th:only-of-type {\n",
              "        vertical-align: middle;\n",
              "    }\n",
              "\n",
              "    .dataframe tbody tr th {\n",
              "        vertical-align: top;\n",
              "    }\n",
              "\n",
              "    .dataframe thead th {\n",
              "        text-align: right;\n",
              "    }\n",
              "</style>\n",
              "<table border=\"1\" class=\"dataframe\">\n",
              "  <thead>\n",
              "    <tr style=\"text-align: right;\">\n",
              "      <th></th>\n",
              "      <th>Predicciones</th>\n",
              "      <th>Unnamed: 0</th>\n",
              "      <th>228_store_name</th>\n",
              "      <th>232_type_of_store</th>\n",
              "      <th>108_does_the_micro_retailer_has_a_barred_window_</th>\n",
              "      <th>99_does_the_micro_retailer_exhibits_products_outside_</th>\n",
              "      <th>102_does_the_micro_retailer_sells_fresh_products_</th>\n",
              "      <th>184_store_devices</th>\n",
              "      <th>hola_somos_estudiantes_del_tec_de_monterrey_estamos_realiz</th>\n",
              "      <th>le_comento_que_toda_esta_informacin_es_confidencial</th>\n",
              "      <th>...</th>\n",
              "      <th>24_burnout</th>\n",
              "      <th>272_card_days_receive_money</th>\n",
              "      <th>276_expected_days_informal_credit</th>\n",
              "      <th>36_credit_default_rate</th>\n",
              "      <th>315_frequency_topups</th>\n",
              "      <th>316_frequency_utility_bills</th>\n",
              "      <th>317_home_deliveries</th>\n",
              "      <th>62_frequency_only_services</th>\n",
              "      <th>78_number_home_deliveries_week</th>\n",
              "      <th>172_supplier_frequency</th>\n",
              "    </tr>\n",
              "  </thead>\n",
              "  <tbody>\n",
              "    <tr>\n",
              "      <th>0</th>\n",
              "      <td>1.840049</td>\n",
              "      <td>0</td>\n",
              "      <td>Mini súper 7 hermanos</td>\n",
              "      <td>Grocery store (aka. nanostore)</td>\n",
              "      <td>no</td>\n",
              "      <td>yes</td>\n",
              "      <td>yes</td>\n",
              "      <td>Security cameras,Smartphone</td>\n",
              "      <td>yes</td>\n",
              "      <td>yes</td>\n",
              "      <td>...</td>\n",
              "      <td>2.0</td>\n",
              "      <td>1</td>\n",
              "      <td>11.8</td>\n",
              "      <td>1.5</td>\n",
              "      <td>20.0</td>\n",
              "      <td>12.2</td>\n",
              "      <td>11.1</td>\n",
              "      <td>10.0</td>\n",
              "      <td>2</td>\n",
              "      <td>2.0</td>\n",
              "    </tr>\n",
              "    <tr>\n",
              "      <th>1</th>\n",
              "      <td>2.057413</td>\n",
              "      <td>1</td>\n",
              "      <td>Super papas Lulu</td>\n",
              "      <td>Grocery store (aka. nanostore)</td>\n",
              "      <td>no</td>\n",
              "      <td>yes</td>\n",
              "      <td>yes</td>\n",
              "      <td>Smartphone</td>\n",
              "      <td>no</td>\n",
              "      <td>yes</td>\n",
              "      <td>...</td>\n",
              "      <td>3.9</td>\n",
              "      <td>1</td>\n",
              "      <td>11.8</td>\n",
              "      <td>1.5</td>\n",
              "      <td>11.8</td>\n",
              "      <td>12.2</td>\n",
              "      <td>11.1</td>\n",
              "      <td>9.4</td>\n",
              "      <td>2</td>\n",
              "      <td>2.7</td>\n",
              "    </tr>\n",
              "    <tr>\n",
              "      <th>2</th>\n",
              "      <td>2.057413</td>\n",
              "      <td>2</td>\n",
              "      <td>Arte Paquistán</td>\n",
              "      <td>Grocery store (aka. nanostore)</td>\n",
              "      <td>no</td>\n",
              "      <td>yes</td>\n",
              "      <td>no</td>\n",
              "      <td>Analog cash register,Smartphone</td>\n",
              "      <td>no</td>\n",
              "      <td>yes</td>\n",
              "      <td>...</td>\n",
              "      <td>3.9</td>\n",
              "      <td>1</td>\n",
              "      <td>11.8</td>\n",
              "      <td>1.5</td>\n",
              "      <td>11.8</td>\n",
              "      <td>12.2</td>\n",
              "      <td>11.1</td>\n",
              "      <td>9.4</td>\n",
              "      <td>2</td>\n",
              "      <td>2.7</td>\n",
              "    </tr>\n",
              "    <tr>\n",
              "      <th>3</th>\n",
              "      <td>1.880844</td>\n",
              "      <td>3</td>\n",
              "      <td>El vestir</td>\n",
              "      <td>Grocery store (aka. nanostore)</td>\n",
              "      <td>no</td>\n",
              "      <td>yes</td>\n",
              "      <td>no</td>\n",
              "      <td>Smartphone</td>\n",
              "      <td>yes</td>\n",
              "      <td>yes</td>\n",
              "      <td>...</td>\n",
              "      <td>3.9</td>\n",
              "      <td>1</td>\n",
              "      <td>11.8</td>\n",
              "      <td>1.5</td>\n",
              "      <td>11.8</td>\n",
              "      <td>12.2</td>\n",
              "      <td>11.1</td>\n",
              "      <td>9.4</td>\n",
              "      <td>2</td>\n",
              "      <td>1.0</td>\n",
              "    </tr>\n",
              "    <tr>\n",
              "      <th>4</th>\n",
              "      <td>2.203324</td>\n",
              "      <td>4</td>\n",
              "      <td>Antojitos Tony</td>\n",
              "      <td>Micro-restaurant (aka. fondita)</td>\n",
              "      <td>no</td>\n",
              "      <td>no</td>\n",
              "      <td>yes</td>\n",
              "      <td>Security cameras,Smartphone</td>\n",
              "      <td>no</td>\n",
              "      <td>yes</td>\n",
              "      <td>...</td>\n",
              "      <td>3.9</td>\n",
              "      <td>1</td>\n",
              "      <td>11.8</td>\n",
              "      <td>1.5</td>\n",
              "      <td>11.8</td>\n",
              "      <td>12.2</td>\n",
              "      <td>11.1</td>\n",
              "      <td>9.4</td>\n",
              "      <td>2</td>\n",
              "      <td>2.7</td>\n",
              "    </tr>\n",
              "    <tr>\n",
              "      <th>...</th>\n",
              "      <td>...</td>\n",
              "      <td>...</td>\n",
              "      <td>...</td>\n",
              "      <td>...</td>\n",
              "      <td>...</td>\n",
              "      <td>...</td>\n",
              "      <td>...</td>\n",
              "      <td>...</td>\n",
              "      <td>...</td>\n",
              "      <td>...</td>\n",
              "      <td>...</td>\n",
              "      <td>...</td>\n",
              "      <td>...</td>\n",
              "      <td>...</td>\n",
              "      <td>...</td>\n",
              "      <td>...</td>\n",
              "      <td>...</td>\n",
              "      <td>...</td>\n",
              "      <td>...</td>\n",
              "      <td>...</td>\n",
              "      <td>...</td>\n",
              "    </tr>\n",
              "    <tr>\n",
              "      <th>325</th>\n",
              "      <td>1.669905</td>\n",
              "      <td>325</td>\n",
              "      <td>Xuti Galería</td>\n",
              "      <td>productos tradicionales</td>\n",
              "      <td>no</td>\n",
              "      <td>yes</td>\n",
              "      <td>no</td>\n",
              "      <td>Analog cash register</td>\n",
              "      <td>yes</td>\n",
              "      <td>yes</td>\n",
              "      <td>...</td>\n",
              "      <td>3.9</td>\n",
              "      <td>1</td>\n",
              "      <td>11.8</td>\n",
              "      <td>1.5</td>\n",
              "      <td>11.8</td>\n",
              "      <td>12.2</td>\n",
              "      <td>11.1</td>\n",
              "      <td>1.0</td>\n",
              "      <td>2</td>\n",
              "      <td>5.0</td>\n",
              "    </tr>\n",
              "    <tr>\n",
              "      <th>326</th>\n",
              "      <td>1.863534</td>\n",
              "      <td>326</td>\n",
              "      <td>July Store</td>\n",
              "      <td>Grocery store (aka. nanostore)</td>\n",
              "      <td>yes</td>\n",
              "      <td>no</td>\n",
              "      <td>no</td>\n",
              "      <td>Analog cash register,Smartphone</td>\n",
              "      <td>no</td>\n",
              "      <td>yes</td>\n",
              "      <td>...</td>\n",
              "      <td>3.9</td>\n",
              "      <td>1</td>\n",
              "      <td>11.8</td>\n",
              "      <td>1.5</td>\n",
              "      <td>11.8</td>\n",
              "      <td>12.2</td>\n",
              "      <td>11.1</td>\n",
              "      <td>9.4</td>\n",
              "      <td>2</td>\n",
              "      <td>2.7</td>\n",
              "    </tr>\n",
              "    <tr>\n",
              "      <th>327</th>\n",
              "      <td>2.220384</td>\n",
              "      <td>327</td>\n",
              "      <td>La fonda</td>\n",
              "      <td>Micro-restaurant (aka. fondita)</td>\n",
              "      <td>yes</td>\n",
              "      <td>no</td>\n",
              "      <td>yes</td>\n",
              "      <td>Smartphone</td>\n",
              "      <td>no</td>\n",
              "      <td>yes</td>\n",
              "      <td>...</td>\n",
              "      <td>3.9</td>\n",
              "      <td>1</td>\n",
              "      <td>11.8</td>\n",
              "      <td>1.5</td>\n",
              "      <td>11.8</td>\n",
              "      <td>12.2</td>\n",
              "      <td>11.1</td>\n",
              "      <td>9.4</td>\n",
              "      <td>2</td>\n",
              "      <td>2.7</td>\n",
              "    </tr>\n",
              "    <tr>\n",
              "      <th>328</th>\n",
              "      <td>1.690676</td>\n",
              "      <td>328</td>\n",
              "      <td>Birria de Res \"Hermanos Negreros 2\" estilo Tij...</td>\n",
              "      <td>Micro-restaurant (aka. fondita)</td>\n",
              "      <td>no</td>\n",
              "      <td>no</td>\n",
              "      <td>yes</td>\n",
              "      <td>Analog cash register</td>\n",
              "      <td>no</td>\n",
              "      <td>yes</td>\n",
              "      <td>...</td>\n",
              "      <td>3.9</td>\n",
              "      <td>1</td>\n",
              "      <td>11.8</td>\n",
              "      <td>1.5</td>\n",
              "      <td>11.8</td>\n",
              "      <td>12.2</td>\n",
              "      <td>11.1</td>\n",
              "      <td>9.4</td>\n",
              "      <td>2</td>\n",
              "      <td>2.7</td>\n",
              "    </tr>\n",
              "    <tr>\n",
              "      <th>329</th>\n",
              "      <td>1.846972</td>\n",
              "      <td>329</td>\n",
              "      <td>Restaurante el alfeñique</td>\n",
              "      <td>Micro-restaurant (aka. fondita)</td>\n",
              "      <td>no</td>\n",
              "      <td>no</td>\n",
              "      <td>yes</td>\n",
              "      <td>Smartphone</td>\n",
              "      <td>no</td>\n",
              "      <td>no</td>\n",
              "      <td>...</td>\n",
              "      <td>3.9</td>\n",
              "      <td>1</td>\n",
              "      <td>11.8</td>\n",
              "      <td>1.5</td>\n",
              "      <td>11.8</td>\n",
              "      <td>12.2</td>\n",
              "      <td>11.1</td>\n",
              "      <td>9.4</td>\n",
              "      <td>2</td>\n",
              "      <td>2.7</td>\n",
              "    </tr>\n",
              "  </tbody>\n",
              "</table>\n",
              "<p>330 rows × 90 columns</p>\n",
              "</div>\n",
              "      <button class=\"colab-df-convert\" onclick=\"convertToInteractive('df-ee90411c-34dd-4c7e-9dec-686262d0d0d4')\"\n",
              "              title=\"Convert this dataframe to an interactive table.\"\n",
              "              style=\"display:none;\">\n",
              "        \n",
              "  <svg xmlns=\"http://www.w3.org/2000/svg\" height=\"24px\"viewBox=\"0 0 24 24\"\n",
              "       width=\"24px\">\n",
              "    <path d=\"M0 0h24v24H0V0z\" fill=\"none\"/>\n",
              "    <path d=\"M18.56 5.44l.94 2.06.94-2.06 2.06-.94-2.06-.94-.94-2.06-.94 2.06-2.06.94zm-11 1L8.5 8.5l.94-2.06 2.06-.94-2.06-.94L8.5 2.5l-.94 2.06-2.06.94zm10 10l.94 2.06.94-2.06 2.06-.94-2.06-.94-.94-2.06-.94 2.06-2.06.94z\"/><path d=\"M17.41 7.96l-1.37-1.37c-.4-.4-.92-.59-1.43-.59-.52 0-1.04.2-1.43.59L10.3 9.45l-7.72 7.72c-.78.78-.78 2.05 0 2.83L4 21.41c.39.39.9.59 1.41.59.51 0 1.02-.2 1.41-.59l7.78-7.78 2.81-2.81c.8-.78.8-2.07 0-2.86zM5.41 20L4 18.59l7.72-7.72 1.47 1.35L5.41 20z\"/>\n",
              "  </svg>\n",
              "      </button>\n",
              "      \n",
              "  <style>\n",
              "    .colab-df-container {\n",
              "      display:flex;\n",
              "      flex-wrap:wrap;\n",
              "      gap: 12px;\n",
              "    }\n",
              "\n",
              "    .colab-df-convert {\n",
              "      background-color: #E8F0FE;\n",
              "      border: none;\n",
              "      border-radius: 50%;\n",
              "      cursor: pointer;\n",
              "      display: none;\n",
              "      fill: #1967D2;\n",
              "      height: 32px;\n",
              "      padding: 0 0 0 0;\n",
              "      width: 32px;\n",
              "    }\n",
              "\n",
              "    .colab-df-convert:hover {\n",
              "      background-color: #E2EBFA;\n",
              "      box-shadow: 0px 1px 2px rgba(60, 64, 67, 0.3), 0px 1px 3px 1px rgba(60, 64, 67, 0.15);\n",
              "      fill: #174EA6;\n",
              "    }\n",
              "\n",
              "    [theme=dark] .colab-df-convert {\n",
              "      background-color: #3B4455;\n",
              "      fill: #D2E3FC;\n",
              "    }\n",
              "\n",
              "    [theme=dark] .colab-df-convert:hover {\n",
              "      background-color: #434B5C;\n",
              "      box-shadow: 0px 1px 3px 1px rgba(0, 0, 0, 0.15);\n",
              "      filter: drop-shadow(0px 1px 2px rgba(0, 0, 0, 0.3));\n",
              "      fill: #FFFFFF;\n",
              "    }\n",
              "  </style>\n",
              "\n",
              "      <script>\n",
              "        const buttonEl =\n",
              "          document.querySelector('#df-ee90411c-34dd-4c7e-9dec-686262d0d0d4 button.colab-df-convert');\n",
              "        buttonEl.style.display =\n",
              "          google.colab.kernel.accessAllowed ? 'block' : 'none';\n",
              "\n",
              "        async function convertToInteractive(key) {\n",
              "          const element = document.querySelector('#df-ee90411c-34dd-4c7e-9dec-686262d0d0d4');\n",
              "          const dataTable =\n",
              "            await google.colab.kernel.invokeFunction('convertToInteractive',\n",
              "                                                     [key], {});\n",
              "          if (!dataTable) return;\n",
              "\n",
              "          const docLinkHtml = 'Like what you see? Visit the ' +\n",
              "            '<a target=\"_blank\" href=https://colab.research.google.com/notebooks/data_table.ipynb>data table notebook</a>'\n",
              "            + ' to learn more about interactive tables.';\n",
              "          element.innerHTML = '';\n",
              "          dataTable['output_type'] = 'display_data';\n",
              "          await google.colab.output.renderOutput(dataTable, element);\n",
              "          const docLink = document.createElement('div');\n",
              "          docLink.innerHTML = docLinkHtml;\n",
              "          element.appendChild(docLink);\n",
              "        }\n",
              "      </script>\n",
              "    </div>\n",
              "  </div>\n",
              "  "
            ]
          },
          "metadata": {},
          "execution_count": 21
        }
      ]
    },
    {
      "cell_type": "code",
      "source": [
        "#Comparamos entre total real y total predictivo\n",
        "sns.scatterplot(x='97_number_of_customers_in_store', y='2_current_permanent_employees', color=\"blue\" , data=df)\n",
        "sns.scatterplot(x='97_number_of_customers_in_store', y='Predicciones', color=\"red\" , data=df)"
      ],
      "metadata": {
        "colab": {
          "base_uri": "https://localhost:8080/",
          "height": 298
        },
        "id": "F302uvs3oMCX",
        "outputId": "ffffd054-fb1a-4135-c941-6da954daad16"
      },
      "execution_count": null,
      "outputs": [
        {
          "output_type": "execute_result",
          "data": {
            "text/plain": [
              "<matplotlib.axes._subplots.AxesSubplot at 0x7f81cc309f10>"
            ]
          },
          "metadata": {},
          "execution_count": 22
        },
        {
          "output_type": "display_data",
          "data": {
            "text/plain": [
              "<Figure size 432x288 with 1 Axes>"
            ],
            "image/png": "[encoded data removed]"
          },
          "metadata": {
            "needs_background": "light"
          }
        }
      ]
    },
    {
      "cell_type": "code",
      "source": [
        "#Corroboramos el coeficiente de determinacion de nuestro modelo \n",
        "coef_Deter=model.score(X=Vars_Indep, y=Var_Dep)\n",
        "coef_Deter"
      ],
      "metadata": {
        "colab": {
          "base_uri": "https://localhost:8080/"
        },
        "id": "rvqK2Pc1o54M",
        "outputId": "03244af1-1a95-4972-d20d-2cd48b10c016"
      },
      "execution_count": null,
      "outputs": [
        {
          "output_type": "execute_result",
          "data": {
            "text/plain": [
              "0.03574077077144189"
            ]
          },
          "metadata": {},
          "execution_count": 23
        }
      ]
    },
    {
      "cell_type": "code",
      "source": [
        "#Corroboramos el coeficiente de corelacion de nuestro modelo \n",
        "coef_Correl=np.sqrt(coef_Deter)\n",
        "coef_Correl"
      ],
      "metadata": {
        "colab": {
          "base_uri": "https://localhost:8080/"
        },
        "id": "wNzzifHypQf4",
        "outputId": "05b43bc6-e0bd-402c-f499-8295d484c665"
      },
      "execution_count": null,
      "outputs": [
        {
          "output_type": "execute_result",
          "data": {
            "text/plain": [
              "0.18905229639293433"
            ]
          },
          "metadata": {},
          "execution_count": 24
        }
      ]
    }
  ]
}